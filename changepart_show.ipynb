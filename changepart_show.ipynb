{
 "cells": [
  {
   "cell_type": "code",
   "execution_count": null,
   "metadata": {},
   "outputs": [],
   "source": [
    "# 指定データのaux_note（rhythm change)がついてる部分を切り出して波形表示する\n",
    "# とりあえず前後2秒を切り出したつもり"
   ]
  },
  {
   "cell_type": "code",
   "execution_count": null,
   "metadata": {},
   "outputs": [],
   "source": [
    "import os\n",
    "import glob\n",
    "import wfdb\n",
    "from IPython.display import display\n",
    "import matplotlib\n",
    "import matplotlib.pyplot as plt\n",
    "font = {'family':'IPAexGothic'}\n",
    "matplotlib.rc('font', **font)"
   ]
  },
  {
   "cell_type": "code",
   "execution_count": null,
   "metadata": {},
   "outputs": [],
   "source": [
    "def get_sample_aux(filename):\n",
    "    annotation = wfdb.rdann('data/%s'%filename, 'atr')\n",
    "    header = wfdb.rdheader('data/%s'%filename)\n",
    "    sample_list = annotation.sample.tolist()\n",
    "    dic = dict(zip(sample_list, annotation.aux_note))\n",
    "    # print(header.sig_len)\n",
    "    for key in sorted(dic.keys()):\n",
    "        sampfrom = max(0, key - annotation.fs*2)\n",
    "        sampto = min(key + annotation.fs*2, header.sig_len)\n",
    "        record = wfdb.rdrecord('data/%s'%filename, sampfrom = sampfrom, sampto = sampto)\n",
    "        if dic[key] == '(BI\\x00':\n",
    "            meaning = '1度房室ブロック(first degree heart block)'\n",
    "        elif dic[key] == '(AFIB\\x00':\n",
    "            meaning = '心房細動(atrial fibrillation)'\n",
    "        elif dic[key] == '(ASYS\\x00':\n",
    "            meaning = '心静止(asystole)'\n",
    "        elif dic[key] == '(B\\x00':\n",
    "            meaning = '心室二段脈(ventricular bigeminy)'\n",
    "        elif dic[key] == '(HGEA\\x00':\n",
    "            meaning = '異所性心室興奮(high grade ventricular ectopic activity)'\n",
    "        elif dic[key] == '(N\\x00' or dic[key] == '(NSR\\x00':\n",
    "            meaning = '正常洞調律(normal sinus rhythm)'\n",
    "        elif dic[key] == '(NOD\\x00':\n",
    "            meaning = '房室結節性リズム (nodal (\"AV junctional\") rhythm)'\n",
    "        elif dic[key] == '(NOISE\\x00':\n",
    "            meaning = 'ノイズ(noise)'\n",
    "        elif dic[key] == '(PM\\x00':\n",
    "            meaning = 'ペースメーカー (pacemaker(paced rhythm))'\n",
    "        elif dic[key] == '(SBR\\x00':\n",
    "            meaning = '洞性徐脈 (sinus bradycardia)'\n",
    "        elif dic[key] == '(SVTA\\x00':\n",
    "            meaning = '上室性頻脈性不整脈 (supraventricular tachyarrhythmia)'\n",
    "        elif dic[key] == '(VER\\x00':\n",
    "            meaning = '心室補充律動 (ventricular escape rhythm)'\n",
    "        elif dic[key] == '(VF\\x00' or dic[key] == '(VFIB\\x00':\n",
    "            meaning = '心室細動 (ventricular fibrillation)'\n",
    "        elif dic[key] == '(VFL\\x00':\n",
    "            meaning = '心室粗動 (ventricular flutter)'\n",
    "        elif dic[key] == '(VT\\x00':\n",
    "            meaning = '心室頻拍 (ventricular tachycardia)'        \n",
    "        else:\n",
    "            meaning = None\n",
    "        \n",
    "        \n",
    "        wfdb.plot_wfdb(record = record, time_units = 'seconds', title = meaning)\n",
    "        # annotationをプロットしたいがなぜかエラー……\n",
    "        # wfdb.plot_wfdb(record = record, annotation = annotation, time_units = 'seconds')"
   ]
  },
  {
   "cell_type": "code",
   "execution_count": null,
   "metadata": {
    "scrolled": false
   },
   "outputs": [],
   "source": [
    "get_sample_aux(615)"
   ]
  },
  {
   "cell_type": "code",
   "execution_count": null,
   "metadata": {},
   "outputs": [],
   "source": [
    "'''\n",
    "    filename = 418\n",
    "    annotation = wfdb.rdann('data/%s'%filename, 'atr')\n",
    "    header = wfdb.rdheader('data/%s'%filename)\n",
    "    sample_list = annotation.sample.tolist()\n",
    "    dic = dict(zip(sample_list, annotation.aux_note))\n",
    "    '''"
   ]
  },
  {
   "cell_type": "code",
   "execution_count": null,
   "metadata": {},
   "outputs": [],
   "source": [
    "'''\n",
    "        sampfrom = max(0, key - annotation.fs*2)\n",
    "        sampto = min(key + annotation.fs*2, header.sig_len)\n",
    "        record = wfdb.rdrecord('data/%s'%filename, sampfrom = sampfrom, sampto = sampto)\n",
    "        meaning = None\n",
    "        file_name = 'test_image.png'\n",
    "        '''"
   ]
  },
  {
   "cell_type": "code",
   "execution_count": null,
   "metadata": {},
   "outputs": [],
   "source": [
    "# fig = wfdb.plot_wfdb(record = record, time_units = 'seconds', title = meaning, return_fig = True)\n",
    "# showのあとにsavefigしてもうまくいかない！！！ちょっと！！"
   ]
  },
  {
   "cell_type": "code",
   "execution_count": null,
   "metadata": {},
   "outputs": [],
   "source": []
  },
  {
   "cell_type": "code",
   "execution_count": null,
   "metadata": {},
   "outputs": [],
   "source": []
  }
 ],
 "metadata": {
  "anaconda-cloud": {},
  "kernelspec": {
   "display_name": "Python [default]",
   "language": "python",
   "name": "python3"
  },
  "language_info": {
   "codemirror_mode": {
    "name": "ipython",
    "version": 3
   },
   "file_extension": ".py",
   "mimetype": "text/x-python",
   "name": "python",
   "nbconvert_exporter": "python",
   "pygments_lexer": "ipython3",
   "version": "3.5.4"
  }
 },
 "nbformat": 4,
 "nbformat_minor": 2
}
