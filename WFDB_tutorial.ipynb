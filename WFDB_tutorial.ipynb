{
 "cells": [
  {
   "cell_type": "markdown",
   "metadata": {},
   "source": [
    "https://github.com/MIT-LCP/wfdb-python/blob/master/demo.ipynb"
   ]
  },
  {
   "cell_type": "code",
   "execution_count": null,
   "metadata": {},
   "outputs": [],
   "source": [
    "from IPython.display import display\n",
    "import matplotlib.pyplot as plt\n",
    "%matplotlib inline\n",
    "import numpy as np\n",
    "import os\n",
    "import shutil\n",
    "import wfdb"
   ]
  },
  {
   "cell_type": "code",
   "execution_count": null,
   "metadata": {},
   "outputs": [],
   "source": [
    "# Demo 1 - Read a wfdb record using the 'rdrecord' function into a wfdb.Record object.\n",
    "# Plot the signals, and show the data.\n",
    "record = wfdb.rdrecord('./wfdb-python/sample-data/a103l')\n",
    "# rdrecordを使ってwfdbレコードを読む"
   ]
  },
  {
   "cell_type": "code",
   "execution_count": null,
   "metadata": {},
   "outputs": [],
   "source": [
    "wfdb.plot_wfdb(record = record, title = \"Record a103l from Physionet Challenge 2015\")\n",
    "#プロット"
   ]
  },
  {
   "cell_type": "code",
   "execution_count": null,
   "metadata": {},
   "outputs": [],
   "source": [
    "display(record.__dict__)\n",
    "# メタデータを見る"
   ]
  },
  {
   "cell_type": "code",
   "execution_count": null,
   "metadata": {},
   "outputs": [],
   "source": [
    "# Demo 2 - Read certain channels and sections of the WFDB record using the simplified 'rdsamp' function\n",
    "# which returns a numpy array and a dictionary. Show the data.\n",
    "\n",
    "signals, fields = wfdb.rdsamp('./wfdb-python/sample-data/s0010_re', channels=[14, 0, 5, 10], sampfrom=100, sampto=15000)\n",
    "# channelがなんでこの形なのかワカラン→　List of integer indices specifying the channels to be read. Leave as ‘all’ to read all channels.\n",
    "# つまり、channelの[14番、0番、5番、10番]の順に並んでいる？？\n"
   ]
  },
  {
   "cell_type": "code",
   "execution_count": null,
   "metadata": {},
   "outputs": [],
   "source": [
    "display(signals)"
   ]
  },
  {
   "cell_type": "code",
   "execution_count": null,
   "metadata": {},
   "outputs": [],
   "source": [
    "display(fields)"
   ]
  },
  {
   "cell_type": "code",
   "execution_count": null,
   "metadata": {
    "scrolled": false
   },
   "outputs": [],
   "source": [
    "# Demo 3 - Read a WFDB header file only (without the signals)\n",
    "record = wfdb.rdheader('./wfdb-python/sample-data/drive02')\n",
    "display(record.__dict__)\n"
   ]
  },
  {
   "cell_type": "code",
   "execution_count": null,
   "metadata": {},
   "outputs": [],
   "source": [
    "# Demo 4 - Read part of a WFDB annotation file into a wfdb.Annotation object, and plot the samples\n",
    "annotation = wfdb.rdann('./wfdb-python/sample-data/100', 'atr', sampfrom=100000, sampto=110000)\n",
    "annotation.fs = 360\n",
    "wfdb.plot_wfdb(annotation=annotation, time_units='minutes')"
   ]
  },
  {
   "cell_type": "code",
   "execution_count": null,
   "metadata": {},
   "outputs": [],
   "source": [
    "# Demo 5 - Read a WFDB record and annotation. Plot all channels, and the annotation on top of channel 0.\n",
    "record = wfdb.rdrecord('./wfdb-python/sample-data/100', sampto = 15000)\n",
    "annotation = wfdb.rdann('./wfdb-python/sample-data/100', 'atr', sampto = 15000)"
   ]
  },
  {
   "cell_type": "code",
   "execution_count": null,
   "metadata": {},
   "outputs": [],
   "source": [
    "wfdb.plot_wfdb(record=record, annotation=annotation,\n",
    "               title='Record 100 from MIT-BIH Arrhythmia Database',\n",
    "               time_units='seconds')"
   ]
  },
  {
   "cell_type": "code",
   "execution_count": null,
   "metadata": {},
   "outputs": [],
   "source": [
    "# Demo 6 - Read the multi-segment record and plot waveforms from the MIMIC matched waveform database. \n",
    "record = wfdb.rdrecord('./wfdb-python/sample-data/multi-segment/s25047/s25047-2704-05-04-10-44')"
   ]
  },
  {
   "cell_type": "code",
   "execution_count": null,
   "metadata": {},
   "outputs": [],
   "source": [
    "wfdb.plot_wfdb(record=record, title='Record s25047-2704-05-04-10-44') "
   ]
  },
  {
   "cell_type": "code",
   "execution_count": null,
   "metadata": {},
   "outputs": [],
   "source": [
    "display(record.__dict__)"
   ]
  },
  {
   "cell_type": "code",
   "execution_count": null,
   "metadata": {},
   "outputs": [],
   "source": [
    "# Demo 7 - Read the multi-segment record and plot waveforms from the MIMIC matched waveform database.\n",
    "# Notice that some channels have no valid values to plot\n",
    "record = wfdb.rdrecord('./wfdb-python/sample-data/multi-segment/s00001/s00001-2896-10-10-00-31',\n",
    "                       sampfrom=3000000, sampto=4000000)"
   ]
  },
  {
   "cell_type": "code",
   "execution_count": null,
   "metadata": {},
   "outputs": [],
   "source": [
    "wfdb.plot_wfdb(record, title='Record s00001/s00001-2896-10-10-00-31') "
   ]
  },
  {
   "cell_type": "code",
   "execution_count": null,
   "metadata": {},
   "outputs": [],
   "source": [
    "display(record.__dict__)"
   ]
  },
  {
   "cell_type": "code",
   "execution_count": null,
   "metadata": {},
   "outputs": [],
   "source": [
    "# Demo 8 - Read a wfdb record in which one channel has multiple samples/frame. Return a smoothed uniform array.\n",
    "record = wfdb.rdrecord('./wfdb-python/sample-data/test01_00s_frame')"
   ]
  },
  {
   "cell_type": "code",
   "execution_count": null,
   "metadata": {},
   "outputs": [],
   "source": [
    "wfdb.plot_wfdb(record)"
   ]
  },
  {
   "cell_type": "code",
   "execution_count": null,
   "metadata": {},
   "outputs": [],
   "source": [
    "# Demo 9 - Read a wfdb record in which one channel has multiple samples/frame. Return a list of all the expanded samples.\n",
    "record = wfdb.rdrecord('./wfdb-python/sample-data/test01_00s_frame', smooth_frames=False)"
   ]
  },
  {
   "cell_type": "code",
   "execution_count": null,
   "metadata": {},
   "outputs": [],
   "source": [
    "display(record.e_p_signal)"
   ]
  },
  {
   "cell_type": "code",
   "execution_count": null,
   "metadata": {},
   "outputs": [],
   "source": [
    "# Show that different channels have different lengths. Channel 1 has 2 samples/frame, hence has 2x as many samples.\n",
    "print([len(s) for s in record.e_p_signal])"
   ]
  },
  {
   "cell_type": "code",
   "execution_count": null,
   "metadata": {},
   "outputs": [],
   "source": [
    "import wfdb\n",
    "from wfdb import processing"
   ]
  },
  {
   "cell_type": "code",
   "execution_count": null,
   "metadata": {},
   "outputs": [],
   "source": [
    "# Demo 19 - Use the gqrs detection algorithm and correct the peaks\n",
    "def peaks_hr(sig, peak_inds, fs, title, figsize=(20, 10), saveto=None):\n",
    "    \"Plot a signal with its peaks and heart rate\"\n",
    "    # Calculate heart rate\n",
    "    hrs = processing.compute_hr(sig_len=sig.shape[0], qrs_inds=peak_inds, fs=fs)\n",
    "    \n",
    "    N = sig.shape[0]\n",
    "    \n",
    "    fig, ax_left = plt.subplots(figsize=figsize)\n",
    "    ax_right = ax_left.twinx()\n",
    "    \n",
    "    ax_left.plot(sig, color='#3979f0', label='Signal')\n",
    "    ax_left.plot(peak_inds, sig[peak_inds], 'rx', marker='x', color='#8b0000', label='Peak', markersize=12)\n",
    "    ax_right.plot(np.arange(N), hrs, label='Heart rate', color='m', linewidth=2)\n",
    "\n",
    "    ax_left.set_title(title)\n",
    "\n",
    "    ax_left.set_xlabel('Time (ms)')\n",
    "    ax_left.set_ylabel('ECG (mV)', color='#3979f0')\n",
    "    ax_right.set_ylabel('Heart rate (bpm)', color='m')\n",
    "    # Make the y-axis label, ticks and tick labels match the line color.\n",
    "    ax_left.tick_params('y', colors='#3979f0')\n",
    "    ax_right.tick_params('y', colors='m')\n",
    "    if saveto is not None:\n",
    "        plt.savefig(saveto, dpi=600)\n",
    "    plt.show()"
   ]
  },
  {
   "cell_type": "code",
   "execution_count": null,
   "metadata": {},
   "outputs": [],
   "source": [
    "# Load the wfdb record and the physical samples\n",
    "record = wfdb.rdrecord('./wfdb-python/sample-data/100', sampfrom=0, sampto=10000, channels=[0])\n",
    "\n",
    "# Use the gqrs algorithm to detect qrs locations in the first channel\n",
    "qrs_inds = processing.gqrs_detect(sig=record.p_signal[:,0], fs=record.fs)"
   ]
  },
  {
   "cell_type": "code",
   "execution_count": null,
   "metadata": {},
   "outputs": [],
   "source": [
    "# Plot results\n",
    "peaks_hr(sig=record.p_signal, peak_inds=qrs_inds, fs=record.fs,\n",
    "        title=\"GQRS peak detection on record 100\")"
   ]
  },
  {
   "cell_type": "code",
   "execution_count": null,
   "metadata": {},
   "outputs": [],
   "source": [
    "# Correct the peaks shifting them to local maxima\n",
    "min_bpm = 20\n",
    "max_bpm = 230\n",
    "#min_gap = record.fs * 60 / min_bpm\n",
    "# Use the maximum possible bpm as the search radius\n",
    "search_radius = int(record.fs * 60 / max_bpm)\n",
    "corrected_peak_inds = processing.correct_peaks(record.p_signal[:,0], peak_inds=qrs_inds,\n",
    "                                               search_radius=search_radius, smooth_window_size=150)"
   ]
  },
  {
   "cell_type": "code",
   "execution_count": null,
   "metadata": {},
   "outputs": [],
   "source": [
    "# Display results\n",
    "print('Corrected gqrs detected peak indices:', sorted(corrected_peak_inds))\n",
    "peaks_hr(sig=record.p_signal, peak_inds=sorted(corrected_peak_inds), fs=record.fs,\n",
    "         title=\"Corrected GQRS peak detection on sampledata/100\")"
   ]
  },
  {
   "cell_type": "code",
   "execution_count": null,
   "metadata": {},
   "outputs": [],
   "source": [
    "# Demo 20 - Use the xqrs detection algorithm and compare results to reference annotations\n",
    "sig, fields = wfdb.rdsamp('./wfdb-python/sample-data/100', channels=[0], sampto=15000)\n",
    "ann_ref = wfdb.rdann('./wfdb-python/sample-data/100','atr', sampto=15000)"
   ]
  },
  {
   "cell_type": "code",
   "execution_count": null,
   "metadata": {},
   "outputs": [],
   "source": [
    "# Run qrs detection on signal\n",
    "xqrs = processing.XQRS(sig=sig[:,0], fs=fields['fs'])\n",
    "xqrs.detect()\n",
    "# Alternatively, use the gateway function to get the qrs indices directly\n",
    "# qrs_inds = processing.xqrs_detect(sig=sig[:,0], fs=fields['fs'])\n",
    "\n",
    "# Compare detected qrs complexes to reference annotation.\n",
    "# Note, first sample in 100.atr is not a qrs.\n",
    "comparitor = processing.compare_annotations(ref_sample=ann_ref.sample[1:],\n",
    "                                            test_sample=xqrs.qrs_inds,\n",
    "                                            window_width=int(0.1 * fields['fs']),\n",
    "                                            signal=sig[:,0])\n"
   ]
  },
  {
   "cell_type": "code",
   "execution_count": null,
   "metadata": {},
   "outputs": [],
   "source": [
    "# Print and plot the results\n",
    "comparitor.print_summary()\n",
    "comparitor.plot(title='xqrs detected qrs vs reference annotations')"
   ]
  },
  {
   "cell_type": "code",
   "execution_count": null,
   "metadata": {},
   "outputs": [],
   "source": []
  }
 ],
 "metadata": {
  "anaconda-cloud": {},
  "kernelspec": {
   "display_name": "Python [default]",
   "language": "python",
   "name": "python3"
  },
  "language_info": {
   "codemirror_mode": {
    "name": "ipython",
    "version": 3
   },
   "file_extension": ".py",
   "mimetype": "text/x-python",
   "name": "python",
   "nbconvert_exporter": "python",
   "pygments_lexer": "ipython3",
   "version": "3.5.4"
  }
 },
 "nbformat": 4,
 "nbformat_minor": 2
}
