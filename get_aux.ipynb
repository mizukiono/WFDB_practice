{
 "cells": [
  {
   "cell_type": "code",
   "execution_count": null,
   "metadata": {},
   "outputs": [],
   "source": [
    "# フォルダ内をさらってデータを取得、[データ番号, 症状]というリストを作る"
   ]
  },
  {
   "cell_type": "code",
   "execution_count": null,
   "metadata": {},
   "outputs": [],
   "source": [
    "import os\n",
    "import glob\n",
    "import wfdb\n",
    "from IPython.display import display"
   ]
  },
  {
   "cell_type": "code",
   "execution_count": null,
   "metadata": {
    "scrolled": true
   },
   "outputs": [],
   "source": [
    "# フォルダ内のデータのファイル名を取得\n",
    "path_list = glob.glob('data/*.dat')\n",
    "print(path_list)"
   ]
  },
  {
   "cell_type": "code",
   "execution_count": null,
   "metadata": {},
   "outputs": [],
   "source": [
    "file_names = []\n",
    "for path in path_list:\n",
    "    filename = os.path.basename(path)\n",
    "    name, ext = os.path.splitext(filename)\n",
    "    file_names.append(name)\n",
    "# ファイル名部分だけにする"
   ]
  },
  {
   "cell_type": "code",
   "execution_count": null,
   "metadata": {},
   "outputs": [],
   "source": [
    "print(file_names)"
   ]
  },
  {
   "cell_type": "code",
   "execution_count": null,
   "metadata": {
    "scrolled": false
   },
   "outputs": [],
   "source": [
    "# WFDBのannotationを読む\n",
    "\n",
    "# ↓こうすれば取り出せる\n",
    "# record = wfdb.rdann('data/610', 'atr')\n",
    "# display(record.__dict__)\n",
    "# print(record.aux_note)"
   ]
  },
  {
   "cell_type": "code",
   "execution_count": null,
   "metadata": {},
   "outputs": [],
   "source": [
    "aux_notes = []\n",
    "for data in file_names:\n",
    "    record = wfdb.rdann('data/%s'%data, 'atr')\n",
    "    aux_note = record.aux_note\n",
    "    # setを経ることでユニークな要素だけにする\n",
    "    aux_note_uniq = list(set(aux_note))\n",
    "    aux_without_x00 = []\n",
    "    for key in aux_note_uniq:\n",
    "        aux = key.split('\\x00')\n",
    "        aux_without_x00.append(aux[0])\n",
    "    name_aux = {data:aux_without_x00}\n",
    "    aux_notes.append(name_aux)"
   ]
  },
  {
   "cell_type": "code",
   "execution_count": null,
   "metadata": {},
   "outputs": [],
   "source": [
    "display(aux_notes)"
   ]
  },
  {
   "cell_type": "code",
   "execution_count": null,
   "metadata": {},
   "outputs": [],
   "source": []
  }
 ],
 "metadata": {
  "anaconda-cloud": {},
  "kernelspec": {
   "display_name": "Python [default]",
   "language": "python",
   "name": "python3"
  },
  "language_info": {
   "codemirror_mode": {
    "name": "ipython",
    "version": 3
   },
   "file_extension": ".py",
   "mimetype": "text/x-python",
   "name": "python",
   "nbconvert_exporter": "python",
   "pygments_lexer": "ipython3",
   "version": "3.5.4"
  }
 },
 "nbformat": 4,
 "nbformat_minor": 2
}
